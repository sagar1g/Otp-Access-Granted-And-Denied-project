{
 "cells": [
  {
   "cell_type": "code",
   "execution_count": 19,
   "id": "b2056124",
   "metadata": {},
   "outputs": [
    {
     "name": "stdout",
     "output_type": "stream",
     "text": [
      "enter user name:- gaurav\n",
      "hello user!!!\n",
      "your otp is :- fXY0\n",
      "enter your otp:- Fghjhj\n",
      "access denied!!!!\n",
      "enter your otp:- fXY0\n",
      "access granted\n"
     ]
    }
   ],
   "source": [
    "def project1():\n",
    "    import random\n",
    "    import string as s\n",
    "    upper=s.ascii_uppercase\n",
    "    lower=s.ascii_lowercase\n",
    "    number=s.digits\n",
    "    l=[]\n",
    "    l.extend(list(upper))\n",
    "    l.extend(list(lower))\n",
    "    l.extend(list(number))\n",
    "    random.shuffle(l)\n",
    "    user=input('enter user name:- ')\n",
    "    print('hello user!!!')\n",
    "    z=''.join(random.sample(l,k=4))\n",
    "    print(f'your otp is :- {z}')\n",
    "    while True:\n",
    "        otp=input('enter your otp:- ')\n",
    "        if otp==z:\n",
    "            print('access granted')\n",
    "            break\n",
    "        else:\n",
    "            print('access denied!!!!')\n",
    "project1()"
   ]
  },
  {
   "cell_type": "code",
   "execution_count": null,
   "id": "a2b5e776",
   "metadata": {},
   "outputs": [],
   "source": []
  }
 ],
 "metadata": {
  "kernelspec": {
   "display_name": "Python 3 (ipykernel)",
   "language": "python",
   "name": "python3"
  },
  "language_info": {
   "codemirror_mode": {
    "name": "ipython",
    "version": 3
   },
   "file_extension": ".py",
   "mimetype": "text/x-python",
   "name": "python",
   "nbconvert_exporter": "python",
   "pygments_lexer": "ipython3",
   "version": "3.9.12"
  }
 },
 "nbformat": 4,
 "nbformat_minor": 5
}
